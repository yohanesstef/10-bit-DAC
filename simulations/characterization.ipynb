{
 "cells": [
  {
   "cell_type": "markdown",
   "id": "093c8bc1",
   "metadata": {},
   "source": [
    "# DAC Characterization Script\n",
    "**Yohanes Stefanus**\n"
   ]
  },
  {
   "cell_type": "code",
   "execution_count": null,
   "id": "8b1f65c1",
   "metadata": {},
   "outputs": [],
   "source": [
    "import numpy as np\n",
    "import pandas as pd\n",
    "import matplotlib.pyplot as plt\n",
    "\n",
    "# read ngspice data\n",
    "df_raw = pd.read_csv('./top-tb.txt', sep=r'\\s+')\n",
    "par_names = df_raw.columns.to_list()\n",
    "par_prefix = par_names[1].split('[')[0]"
   ]
  }
 ],
 "metadata": {
  "kernelspec": {
   "display_name": "Python 3",
   "language": "python",
   "name": "python3"
  },
  "language_info": {
   "codemirror_mode": {
    "name": "ipython",
    "version": 3
   },
   "file_extension": ".py",
   "mimetype": "text/x-python",
   "name": "python",
   "nbconvert_exporter": "python",
   "pygments_lexer": "ipython3",
   "version": "3.10.12"
  }
 },
 "nbformat": 4,
 "nbformat_minor": 5
}
