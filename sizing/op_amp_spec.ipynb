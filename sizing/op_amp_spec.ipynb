{
 "cells": [
  {
   "cell_type": "code",
   "execution_count": null,
   "id": "3a1823ac",
   "metadata": {},
   "outputs": [
    {
     "name": "stdout",
     "output_type": "stream",
     "text": [
      "3.3333333333333335e-07\n",
      "Id max =  495.0 uA\n"
     ]
    }
   ],
   "source": [
    "tr = 2.4\n",
    "slew_rate = 3/1e-6 #4V/us\n",
    "t_slew = 1/slew_rate\n",
    "cap_compe = 0.2e-12 #capacitor compensation\n",
    "cap_load = 30e-12 #load capacitor\n",
    "vdd = 5.5\n",
    "Id_max = vdd * cap_load / t_slew\n",
    "print(t_slew)\n",
    "print('Id max = ', round(Id_max/1e-6, 4), 'uA')"
   ]
  }
 ],
 "metadata": {
  "kernelspec": {
   "display_name": "Python 3",
   "language": "python",
   "name": "python3"
  },
  "language_info": {
   "codemirror_mode": {
    "name": "ipython",
    "version": 3
   },
   "file_extension": ".py",
   "mimetype": "text/x-python",
   "name": "python",
   "nbconvert_exporter": "python",
   "pygments_lexer": "ipython3",
   "version": "3.10.12"
  }
 },
 "nbformat": 4,
 "nbformat_minor": 5
}
