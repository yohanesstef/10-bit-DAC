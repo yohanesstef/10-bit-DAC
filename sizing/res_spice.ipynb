{
 "cells": [
  {
   "cell_type": "markdown",
   "id": "a34576c7",
   "metadata": {},
   "source": [
    "# A Script to Generate Resistor String Spice Files\n",
    "\n",
    "**Yohanes Stefanus**"
   ]
  },
  {
   "cell_type": "code",
   "execution_count": 22,
   "id": "3a1823ac",
   "metadata": {},
   "outputs": [],
   "source": [
    "import numpy as np\n",
    "import pandas as pd\n",
    "\n",
    "dev_prefix = 'sky130_fd_pr__res_xhigh_po_'\n",
    "dev_w = ['0p35', '0p69', '1p41', '2p85', '5p73']\n",
    "\n",
    "df = pd.read_csv('Lcomp_data4.txt', sep=r'\\s+')\n",
    "#df = pd.read_csv('L_data6.txt', sep=r'\\s+')"
   ]
  },
  {
   "cell_type": "code",
   "execution_count": 23,
   "id": "53afae30",
   "metadata": {},
   "outputs": [],
   "source": [
    "lines = []\n",
    "node = 0\n",
    "\n",
    "for seg_num in sorted(df['Segment'].unique()):\n",
    "    segment_df = df[df['Segment'] == seg_num].reset_index(drop=True)\n",
    "    num_res = len(segment_df)\n",
    "    num_nodes = num_res + 1\n",
    "\n",
    "    #subckt line\n",
    "    port_list = [f\"v{i}\" for i in range(num_nodes)]\n",
    "    subckt_line = f\".subckt rseg_{int(seg_num)}_v3 \" + \" \".join(port_list) + \" gnd\"\n",
    "\n",
    "    #device instance lines\n",
    "    lines = [subckt_line]\n",
    "    node = 0\n",
    "\n",
    "    #randomness\n",
    "    #np.random.seed(0)\n",
    "    #variation = np.random.uniform(-0.005, 0.005, size=len(df))\n",
    "    #df['L_varians'] = df['L'] * (1 + variation)\n",
    "\n",
    "    for idx, row in segment_df.iterrows():\n",
    "        l_val = f\"{row['L']:.4f}\"\n",
    "        w_val = row['W']\n",
    "        w_str = f\"{float(w_val):.2f}\".replace('.','p')\n",
    "\n",
    "        if w_str not in dev_w:\n",
    "            raise ValueError(f\"Unsupported width '{w_str}' for row {idx}!\")\n",
    "        \n",
    "        model_name  = dev_prefix + w_str\n",
    "\n",
    "        line = f\"XR{idx+1} v{node} v{node+1} gnd {model_name} L={l_val} mult=1 m=1\"\n",
    "        lines.append(line)\n",
    "        node += 1\n",
    "    \n",
    "    lines.append(\".ends\")\n",
    "\n",
    "\n",
    "    with open(f\"../spice/rseg_{int(seg_num)}.spice\", \"w\") as f:\n",
    "        f.write(\"\\n\".join(lines))"
   ]
  },
  {
   "cell_type": "code",
   "execution_count": 15,
   "id": "6781775d",
   "metadata": {},
   "outputs": [
    {
     "name": "stdout",
     "output_type": "stream",
     "text": [
      "[ 1.          0.77777778  0.55555556  0.33333333  0.11111111 -0.11111111\n",
      " -0.33333333 -0.55555556 -0.77777778 -1.        ]\n",
      "[ 0.00048814  0.00215189  0.00102763  0.00044883 -0.00076345  0.00145894\n",
      " -0.00062413  0.00391773  0.00463663 -0.00116558]\n"
     ]
    }
   ],
   "source": [
    "print(np.linspace(1,-1,10))\n",
    "np.random.seed(0)\n",
    "variation = np.random.uniform(-0.005, 0.005, 10)\n",
    "print(variation)\n"
   ]
  },
  {
   "cell_type": "code",
   "execution_count": null,
   "id": "6dc58ed3",
   "metadata": {},
   "outputs": [],
   "source": []
  }
 ],
 "metadata": {
  "kernelspec": {
   "display_name": ".venv",
   "language": "python",
   "name": "python3"
  },
  "language_info": {
   "codemirror_mode": {
    "name": "ipython",
    "version": 3
   },
   "file_extension": ".py",
   "mimetype": "text/x-python",
   "name": "python",
   "nbconvert_exporter": "python",
   "pygments_lexer": "ipython3",
   "version": "3.12.8"
  }
 },
 "nbformat": 4,
 "nbformat_minor": 5
}
